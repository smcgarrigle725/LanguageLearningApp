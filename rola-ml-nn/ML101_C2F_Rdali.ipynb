{
 "cells": [
  {
   "cell_type": "markdown",
   "metadata": {
    "id": "o-lO7jr3YPVT"
   },
   "source": [
    "# ML101 Lab: ML vs traditional software"
   ]
  },
  {
   "cell_type": "markdown",
   "metadata": {
    "id": "V8zn2SosYcQF"
   },
   "source": [
    "We have been talking about the difference between ML (sometimes refered to as Software 2.0) and traditional software development. Here is a simplified example to drive home the difference in procress between traditional software development and ML.\n",
    "\n",
    "We will use a use case of temperatures in Celsuis and in Fahrenheit."
   ]
  },
  {
   "cell_type": "markdown",
   "metadata": {
    "id": "42IBPVkeZKMJ"
   },
   "source": [
    "## Traditional Software vs ML:\n",
    "\n",
    "We mentioned that in traditional software the algorithm or Formula is explicitly coded, whereas in ML, the pattern/algorithm/formula, which is a mapping of the input to the desired output, is learnt by the model, and NOT explicitly coded up.\n",
    "\n",
    "Let's look at a simple example of converting temperatures from Celsuis to Fahrenheit."
   ]
  },
  {
   "cell_type": "markdown",
   "metadata": {
    "id": "3zq06CBMZB0i"
   },
   "source": [
    "## Traditional Software:"
   ]
  },
  {
   "cell_type": "markdown",
   "metadata": {
    "id": "AfJLNkwRavhS"
   },
   "source": [
    "We know that there is an equation that can help us convert Temperatures from C to F which is defined as:   \n",
    "**Temperature_F= (1.8 x Temperature_C) + 32**.  \n",
    "So we can simply code that up and deploy our system"
   ]
  },
  {
   "cell_type": "code",
   "execution_count": null,
   "metadata": {
    "id": "vQ2IMAjwZA0d"
   },
   "outputs": [],
   "source": [
    "def temp_c2f(temp_c):\n",
    "  return round((1.8 * temp_c) + 32, 2)\n",
    "\n",
    "# ask user for an input temperature in Celsius\n",
    "temp_c = float(input(\"Enter the Temperature in Celsius :\\n\"))\n",
    "\n",
    "# convert temperature from Celsius to Fahrenheit\n",
    "temp_f = temp_c2f(temp_c)\n",
    "\n",
    "# return the Fahrenheit temperature to the user:\n",
    "print(\"Temperature in Fahrenheit :\", temp_f, \"F\")"
   ]
  },
  {
   "cell_type": "markdown",
   "metadata": {
    "id": "s4yFWqtgcg2f"
   },
   "source": [
    "Once you develop your algorithm and test it, you deploy it and monitor it. Every time there is a change in the algorithm, you would edit your code and redeploy."
   ]
  },
  {
   "cell_type": "markdown",
   "metadata": {
    "id": "jabvHlS6c454"
   },
   "source": [
    "## Machine Learning system"
   ]
  },
  {
   "cell_type": "markdown",
   "metadata": {
    "id": "s9oTWqe5c70v"
   },
   "source": [
    "Let's imagine we do not have the formula for the Celsuis to Fahrenheit conversion. What we do have is **Data**. In your company, you find an excel sheet, with a column that is labeled Temperature_C and another that is labeled Temperature_F. These were collected from thermometers in the field. However, the Fahrenheit thermometer broke recently and it will cost too much to fix due to material shortage but some of your processes need the temperature in Fahrenheit to function properly. Your system is still collecting temperatures in Celsius, so you wonder if you can derive or **predict** the Temperature in Fahrenheit from the Temperature in Celsius since it will be a hassle to fix the Fahrenheit data collectors."
   ]
  },
  {
   "cell_type": "code",
   "execution_count": null,
   "metadata": {
    "id": "vQQSoZd53aJs"
   },
   "outputs": [],
   "source": [
    "#download data_file:\n",
    "\n",
    "!wget -O temperatures.csv https://drive.usercontent.google.com/uc?id=1bcl86iqr3XxZ-2pdp_UOoV6_hsxvYM3_&authuser=0&export=download"
   ]
  },
  {
   "cell_type": "code",
   "execution_count": null,
   "metadata": {
    "id": "lnIhzFrsZC7E"
   },
   "outputs": [],
   "source": [
    "import pandas as pd\n",
    "\n",
    "data_file = \"temperatures.csv\"\n",
    "data = pd.read_csv(data_file, header=None)\n",
    "data.columns = [\"temp_c\", \"temp_f\"]\n"
   ]
  },
  {
   "cell_type": "code",
   "execution_count": null,
   "metadata": {
    "id": "JcsjKuiC27aL"
   },
   "outputs": [],
   "source": [
    "# explore the dataset:\n",
    "print(\"File contains: \", data.shape)\n",
    "data.describe()"
   ]
  },
  {
   "cell_type": "markdown",
   "metadata": {
    "id": "IZQMJ1HY3_ko"
   },
   "source": [
    "So the file we found contains 2 columns and 300 data points, with the data metrics shown above.\n",
    "Since there are only 2 columns, we can plot them to see if there is any relationship between the 2 variables. **Remember** that this is a simple case and most ML problem have multiple features so visualizations become difficult."
   ]
  },
  {
   "cell_type": "code",
   "execution_count": null,
   "metadata": {
    "id": "epQ2ltF3gCvy"
   },
   "outputs": [],
   "source": [
    "data.plot(kind=\"scatter\", x=\"temp_c\", y=\"temp_f\");"
   ]
  },
  {
   "cell_type": "markdown",
   "metadata": {
    "id": "iXkXHvNd4wit"
   },
   "source": [
    "It looks like there is a linear relationship between temperature in Celsuis and temperture in Fahrenheit. So we can try to extract that relationship and decide not to buy Fahrenheit thermometers anymore."
   ]
  },
  {
   "cell_type": "code",
   "execution_count": null,
   "metadata": {
    "id": "0ZpZPrxVgEcK"
   },
   "outputs": [],
   "source": [
    "# Model the relationship between temperature in C (labeled x) and temperature in F (labeled y)\n",
    "\n",
    "import numpy as np\n",
    "from sklearn.linear_model import LinearRegression\n",
    "from sklearn.model_selection import train_test_split\n",
    "from sklearn.metrics import accuracy_score\n",
    "\n",
    "X = np.array(data[\"temp_c\"]).reshape((-1, 1))\n",
    "y = np.array(data[\"temp_f\"])\n",
    "\n",
    "#1- Choose a model: In this case, we will go with Linear regression since temperature is a continuous variable\n",
    "# and regression is the simplest model possible:\n",
    "model = LinearRegression()\n",
    "\n",
    "#2- split data into test and train to later evaluate how well the model does on unseen data:\n",
    "# We will use 70% of the data for training the model,\n",
    "# and hide 30% of the data to test how well the model generalizes:\n",
    "\n",
    "x_train, x_test, y_train, y_test = train_test_split(X, y, test_size =0.3)\n",
    "\n",
    "#3- train the model on the training data\n",
    "model.fit(x_train, y_train)\n",
    "\n",
    "# print model R2 to see how well the model did on the training set:\n",
    "r2_train = model.score(x_train, y_train)\n",
    "print(\"Score on Training set: \", r2_train)\n",
    "\n",
    "#4- evaluate the model on unseen data\n",
    "r2_test = model.score(x_test, y_test)\n",
    "print(\"Score on Test set: \", r2_test)\n"
   ]
  },
  {
   "cell_type": "markdown",
   "metadata": {
    "id": "9DTny7U7R73L"
   },
   "source": [
    "Since the model scored on the test set (unseen data) very closely to how it scored on the training set, then the model has managed to pick up a pattern that generalizes well on the current dataset. If there is no pattern OR the model is not good enough to pick up the pattern (bias) then we would see a huge underperformance on the unseen data."
   ]
  },
  {
   "cell_type": "code",
   "execution_count": null,
   "metadata": {
    "id": "OtQIJEep_kb8"
   },
   "outputs": [],
   "source": [
    "# Model summary:\n",
    "\n",
    "print(\"coefficient of determination:\", r2_test)\n",
    "print(\"intercept:\", model.intercept_)\n",
    "print(\"slope:\", model.coef_)"
   ]
  },
  {
   "cell_type": "code",
   "execution_count": null,
   "metadata": {
    "id": "C_qJxzA6AN9F"
   },
   "outputs": [],
   "source": [
    "print(\"This ML system thinks that:\\nTemperature in F = {} x Temperature in C + {}\".format(round(model.coef_[0],2), round(model.intercept_),2))"
   ]
  },
  {
   "cell_type": "markdown",
   "metadata": {
    "id": "47SKRxI1Bzjj"
   },
   "source": [
    "This is fairly close to the known formula of:  Temperature_F= (1.8 x Temperature_C) + 32.   \n",
    "\n",
    "Of course, the data generated had a certain level of noise (+/- 30) and the dataset is not large. But this is to illustrate an example of how traditional software is different from ML in process."
   ]
  },
  {
   "cell_type": "code",
   "execution_count": null,
   "metadata": {
    "id": "u8IGifCC_IHa"
   },
   "outputs": [],
   "source": [
    "# Use the model to predict a response vs the traditional system:\n",
    "\n",
    "\n",
    "temp_c = float(input(\"Enter the Temperature in Celsius :\\n\"))\n",
    "\n",
    "# Traditional system response:\n",
    "print(\"Software: Temperature in Fahrenheit :\", temp_c2f(temp_c), \"F\")\n",
    "\n",
    "# ML model response:\n",
    "print(\"ML Temperature in Fahrenheit :\", round(model.predict(np.array(temp_c).reshape(1, -1))[0],2), \"F\")\n"
   ]
  },
  {
   "cell_type": "markdown",
   "metadata": {
    "id": "ZCwV_AUFS4f1"
   },
   "source": [
    "Now that you have a model that does fairly well, you can take that model and deploy it. Ideally the model performance would be monitored to detect when the underlying patterns change and the model needs to be retrained."
   ]
  },
  {
   "cell_type": "markdown",
   "metadata": {
    "id": "qGo5HD3QTL33"
   },
   "source": [
    "### Note:\n",
    "Keep in mind that this is a very simple scenario to illustrate the difference in *coded formula/algorithm/pattern* vs *learnt formula/algorithm/pattern*. The data is small and simple and has no issues. It was not processed in any way, which is not the norm.\n",
    "As I mentioned, there is no need for ML in simple systems. ML shines when there is complexity. Hopefully this gives you an idea of how ML works: **we are trying to define a mapping between input/features and a desired outcome**."
   ]
  }
 ],
 "metadata": {
  "colab": {
   "provenance": []
  },
  "kernelspec": {
   "display_name": "Python 3 (ipykernel)",
   "language": "python",
   "name": "python3"
  },
  "language_info": {
   "codemirror_mode": {
    "name": "ipython",
    "version": 3
   },
   "file_extension": ".py",
   "mimetype": "text/x-python",
   "name": "python",
   "nbconvert_exporter": "python",
   "pygments_lexer": "ipython3",
   "version": "3.9.12"
  }
 },
 "nbformat": 4,
 "nbformat_minor": 1
}
